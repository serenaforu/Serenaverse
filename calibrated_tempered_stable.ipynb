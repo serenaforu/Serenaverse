{
 "cells": [
  {
   "cell_type": "code",
   "execution_count": 24,
   "metadata": {},
   "outputs": [],
   "source": [
    "import numpy as np\n",
    "from numpy import exp\n",
    "import scipy\n",
    "from scipy.special import gamma\n",
    "import matplotlib.pyplot as plt\n",
    "import pandas as pd\n",
    "import datetime\n",
    "import time\n",
    "import calendar\n",
    "from scipy.optimize import minimize\n",
    "from scipy import integrate"
   ]
  },
  {
   "cell_type": "code",
   "execution_count": 54,
   "metadata": {},
   "outputs": [],
   "source": [
    "def fx1(a, b, c, t, u):\n",
    "    if c == 0:\n",
    "        f = (1+u/b)**(-1*a*t)\n",
    "    else:    \n",
    "        f = exp(a * t * gamma(-1*c) * ((b+u)**c - b**c))\n",
    "    return f\n",
    "\n",
    "def fx2(a, b, c, theta, t, u):\n",
    "    e = theta*u-0.5*u**2\n",
    "    f = fx1(a, b, c, t, e)\n",
    "    return f"
   ]
  },
  {
   "cell_type": "code",
   "execution_count": 57,
   "metadata": {},
   "outputs": [],
   "source": [
    "def P_star(S, K, a, b, c, theta, t):\n",
    "    p = 0.5 + (1/scipy.pi)*integrate.quad(P_star_f, 0, np.inf, args=(S, K, a, b, c, theta, t))[0]\n",
    "    return p\n",
    "\n",
    "def P_arg(S, K, a, b, c, theta, t):\n",
    "    p = 0.5 + (1/np.pi)*integrate.quad(P_arg_f, 0, np.inf, args=(S, K, a, b, c, theta, t))[0]\n",
    "    return p"
   ]
  },
  {
   "cell_type": "code",
   "execution_count": 59,
   "metadata": {},
   "outputs": [],
   "source": [
    "def P_star_f(S, K, a, b, c, theta, t, u):\n",
    "    f = np.real((S/(K*fx2(a, b, c, theta, t, -1)))**(1j*u)*fx2(a, b, c, theta, t, -1j*u)/(1j*u))\n",
    "    return f\n",
    "\n",
    "def P_arg_f(S, K, a, b, c, theta, t, u):\n",
    "    f = np.real((S/(K*fx2(a, b, c, theta, t, -1)))**(1j*u)*fx2(a, b, c, theta, t, -1j*u-1)/(1j*u*fx2(a, b, c, theta, t, -1)))\n",
    "    return f"
   ]
  },
  {
   "cell_type": "code",
   "execution_count": 28,
   "metadata": {},
   "outputs": [],
   "source": [
    "def tempered_stable(q, r, S, K, a, b, c, theta, t):\n",
    "    p = S*exp(-q*t)*P_arg(S, K, a, b, c, theta, t)-K*exp(-r*t)*P_star(S, K, a, b, c, theta, t)\n",
    "    return p"
   ]
  },
  {
   "cell_type": "code",
   "execution_count": 29,
   "metadata": {},
   "outputs": [],
   "source": [
    "def loss_function(sigma, BTC_df, S, r, option):\n",
    "    arpe = 0\n",
    "    for idx, BTC in BTC_df.iterrows():\n",
    "        date = BTC['Unnamed: 0'][4:6]\n",
    "        mon = list(calendar.month_abbr).index(BTC['Unnamed: 0'][6:9].capitalize())\n",
    "        Year = '20'+BTC['Unnamed: 0'][9:11]\n",
    "        end_time = pd.datetime.strptime(Year+'-'+str(mon)+'-'+date, '%Y-%m-%d')\n",
    "        T = end_time - start_time\n",
    "        T = T.days / 365\n",
    "        strike = BTC['Strike']\n",
    "        BTC_df.at[idx, 'FT_price'] = tempered_stable(0, 0, spot_price, strike, T, sigma)\n",
    "        arpe += abs(BTC['Price(USD)'] - BTC['FT_price'])/BTC['Price(USD)']\n",
    "\n",
    "    height, width = BTC_df.shape\n",
    "    arpe /= height\n",
    "    return arpe"
   ]
  },
  {
   "cell_type": "code",
   "execution_count": 33,
   "metadata": {},
   "outputs": [
    {
     "name": "stdout",
     "output_type": "stream",
     "text": [
      "4739.533736465831\n"
     ]
    },
    {
     "name": "stderr",
     "output_type": "stream",
     "text": [
      "C:\\Users\\omen of Hansen\\AppData\\Local\\Temp\\ipykernel_3736\\851579879.py:3: FutureWarning: The pandas.datetime class is deprecated and will be removed from pandas in a future version. Import from datetime module instead.\n",
      "  start_time = pd.datetime.strptime('2023-02-24', '%Y-%m-%d')\n"
     ]
    }
   ],
   "source": [
    "BTC_df = pd.read_csv('BTC.csv')\n",
    "spot_price = 23129\n",
    "start_time = pd.datetime.strptime('2023-02-24', '%Y-%m-%d')\n",
    "s = BTC_df['Price(USD)'].std()\n",
    "print(s)"
   ]
  },
  {
   "cell_type": "code",
   "execution_count": 69,
   "metadata": {},
   "outputs": [
    {
     "name": "stderr",
     "output_type": "stream",
     "text": [
      "C:\\Users\\omen of Hansen\\AppData\\Local\\Temp\\ipykernel_3736\\2081049599.py:5: FutureWarning: The pandas.datetime class is deprecated and will be removed from pandas in a future version. Import from datetime module instead.\n",
      "  end_time = pd.datetime.strptime(Year+'-'+str(mon)+'-'+date, '%Y-%m-%d')\n",
      "C:\\Users\\omen of Hansen\\AppData\\Local\\Temp\\ipykernel_3736\\2163325504.py:6: RuntimeWarning: divide by zero encountered in double_scalars\n",
      "  f = np.real((S/(K*fx2(a, b, c, theta, t, -1)))**(1j*u)*fx2(a, b, c, theta, t, -1j*u-1)/(1j*u*fx2(a, b, c, theta, t, -1)))\n",
      "C:\\Users\\omen of Hansen\\AppData\\Local\\Temp\\ipykernel_3736\\2163325504.py:6: RuntimeWarning: invalid value encountered in power\n",
      "  f = np.real((S/(K*fx2(a, b, c, theta, t, -1)))**(1j*u)*fx2(a, b, c, theta, t, -1j*u-1)/(1j*u*fx2(a, b, c, theta, t, -1)))\n",
      "C:\\Users\\omen of Hansen\\AppData\\Local\\Temp\\ipykernel_3736\\4128078115.py:6: IntegrationWarning: The occurrence of roundoff error is detected, which prevents \n",
      "  the requested tolerance from being achieved.  The error may be \n",
      "  underestimated.\n",
      "  p = 0.5 + (1/np.pi)*integrate.quad(P_arg_f, 0, np.inf, args=(S, K, a, b, c, theta, t))[0]\n",
      "C:\\Users\\omen of Hansen\\AppData\\Local\\Temp\\ipykernel_3736\\2163325504.py:2: RuntimeWarning: divide by zero encountered in double_scalars\n",
      "  f = np.real((S/(K*fx2(a, b, c, theta, t, -1)))**(1j*u)*fx2(a, b, c, theta, t, -1j*u)/(1j*u))\n",
      "C:\\Users\\omen of Hansen\\AppData\\Local\\Temp\\ipykernel_3736\\2163325504.py:2: RuntimeWarning: invalid value encountered in power\n",
      "  f = np.real((S/(K*fx2(a, b, c, theta, t, -1)))**(1j*u)*fx2(a, b, c, theta, t, -1j*u)/(1j*u))\n",
      "C:\\Users\\omen of Hansen\\AppData\\Local\\Temp\\ipykernel_3736\\2565702237.py:5: RuntimeWarning: overflow encountered in exp\n",
      "  f = exp(a * t * gamma(-1*c) * ((b+u)**c - b**c))\n",
      "C:\\Users\\omen of Hansen\\AppData\\Local\\Temp\\ipykernel_3736\\4128078115.py:2: IntegrationWarning: The occurrence of roundoff error is detected, which prevents \n",
      "  the requested tolerance from being achieved.  The error may be \n",
      "  underestimated.\n",
      "  p = 0.5 + (1/scipy.pi)*integrate.quad(P_star_f, 0, np.inf, args=(S, K, a, b, c, theta, t))[0]\n"
     ]
    }
   ],
   "source": [
    "for idx, BTC in BTC_df.iterrows():\n",
    "    date = BTC['Unnamed: 0'][4:6]\n",
    "    mon = list(calendar.month_abbr).index(BTC['Unnamed: 0'][6:9].capitalize())\n",
    "    Year = '20'+BTC['Unnamed: 0'][9:11]\n",
    "    end_time = pd.datetime.strptime(Year+'-'+str(mon)+'-'+date, '%Y-%m-%d')\n",
    "    T = end_time - start_time\n",
    "    T = T.days / 365\n",
    "    strike = BTC['Strike']\n",
    "    BTC_df.at[idx, 'tempered_stable'] = tempered_stable(0, 0, spot_price, strike, 1.5, 0.7, 0.5, -0.6, T)"
   ]
  },
  {
   "cell_type": "code",
   "execution_count": 70,
   "metadata": {},
   "outputs": [
    {
     "data": {
      "text/html": [
       "<div>\n",
       "<style scoped>\n",
       "    .dataframe tbody tr th:only-of-type {\n",
       "        vertical-align: middle;\n",
       "    }\n",
       "\n",
       "    .dataframe tbody tr th {\n",
       "        vertical-align: top;\n",
       "    }\n",
       "\n",
       "    .dataframe thead th {\n",
       "        text-align: right;\n",
       "    }\n",
       "</style>\n",
       "<table border=\"1\" class=\"dataframe\">\n",
       "  <thead>\n",
       "    <tr style=\"text-align: right;\">\n",
       "      <th></th>\n",
       "      <th>Unnamed: 0</th>\n",
       "      <th>Mark price</th>\n",
       "      <th>Price(USD)</th>\n",
       "      <th>Strike</th>\n",
       "      <th>tempered_stable</th>\n",
       "    </tr>\n",
       "  </thead>\n",
       "  <tbody>\n",
       "    <tr>\n",
       "      <th>0</th>\n",
       "      <td>BTC-29DEC23-5000-C</td>\n",
       "      <td>0.7928</td>\n",
       "      <td>18336.6712</td>\n",
       "      <td>5000</td>\n",
       "      <td>NaN</td>\n",
       "    </tr>\n",
       "    <tr>\n",
       "      <th>1</th>\n",
       "      <td>BTC-29DEC23-10000-C</td>\n",
       "      <td>0.5971</td>\n",
       "      <td>13810.3259</td>\n",
       "      <td>10000</td>\n",
       "      <td>NaN</td>\n",
       "    </tr>\n",
       "    <tr>\n",
       "      <th>2</th>\n",
       "      <td>BTC-29DEC23-11000-C</td>\n",
       "      <td>0.5593</td>\n",
       "      <td>12936.0497</td>\n",
       "      <td>11000</td>\n",
       "      <td>NaN</td>\n",
       "    </tr>\n",
       "    <tr>\n",
       "      <th>3</th>\n",
       "      <td>BTC-29DEC23-12000-C</td>\n",
       "      <td>0.5231</td>\n",
       "      <td>12098.7799</td>\n",
       "      <td>12000</td>\n",
       "      <td>NaN</td>\n",
       "    </tr>\n",
       "    <tr>\n",
       "      <th>4</th>\n",
       "      <td>BTC-29DEC23-13000-C</td>\n",
       "      <td>0.4877</td>\n",
       "      <td>11280.0133</td>\n",
       "      <td>13000</td>\n",
       "      <td>NaN</td>\n",
       "    </tr>\n",
       "  </tbody>\n",
       "</table>\n",
       "</div>"
      ],
      "text/plain": [
       "            Unnamed: 0  Mark price  Price(USD)  Strike  tempered_stable\n",
       "0   BTC-29DEC23-5000-C      0.7928  18336.6712    5000              NaN\n",
       "1  BTC-29DEC23-10000-C      0.5971  13810.3259   10000              NaN\n",
       "2  BTC-29DEC23-11000-C      0.5593  12936.0497   11000              NaN\n",
       "3  BTC-29DEC23-12000-C      0.5231  12098.7799   12000              NaN\n",
       "4  BTC-29DEC23-13000-C      0.4877  11280.0133   13000              NaN"
      ]
     },
     "execution_count": 70,
     "metadata": {},
     "output_type": "execute_result"
    }
   ],
   "source": [
    "BTC_df.head()"
   ]
  }
 ],
 "metadata": {
  "kernelspec": {
   "display_name": "Python 3",
   "language": "python",
   "name": "python3"
  },
  "language_info": {
   "codemirror_mode": {
    "name": "ipython",
    "version": 3
   },
   "file_extension": ".py",
   "mimetype": "text/x-python",
   "name": "python",
   "nbconvert_exporter": "python",
   "pygments_lexer": "ipython3",
   "version": "3.10.0"
  },
  "orig_nbformat": 4
 },
 "nbformat": 4,
 "nbformat_minor": 2
}
